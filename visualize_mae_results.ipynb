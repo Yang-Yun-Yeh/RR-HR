{
 "cells": [
  {
   "cell_type": "code",
   "execution_count": 8,
   "id": "c831c975",
   "metadata": {},
   "outputs": [],
   "source": [
    "import numpy as np\n",
    "import pandas as pd\n",
    "import matplotlib.pyplot as plt\n",
    "from datetime import datetime\n",
    "%matplotlib inline\n",
    "\n",
    "from utils.visualize import *\n",
    "from utils.FIR_filter import *\n",
    "from utils.signal_process import *\n",
    "from utils.preprocess import *\n",
    "from utils.model import *\n",
    "import utils.vision_transformer as VT\n",
    "\n",
    "import torch\n",
    "from torch.utils.data import Dataset, DataLoader\n",
    "\n",
    "import pickle"
   ]
  },
  {
   "cell_type": "markdown",
   "id": "0b91d11b",
   "metadata": {},
   "source": [
    "# Feature: Q omega omega_l2 ANC"
   ]
  },
  {
   "cell_type": "code",
   "execution_count": 9,
   "id": "1e473099",
   "metadata": {},
   "outputs": [
    {
     "name": "stdout",
     "output_type": "stream",
     "text": [
      "MLP_10P_32 Evaluation Results - MSE Loss: 0.0053, L1 Loss: 3.0224 1/min\n",
      "CNN_10P_32 Evaluation Results - MSE Loss: 0.0036, L1 Loss: 2.7767 1/min\n",
      "VT_10P_32_emt2 Evaluation Results - MSE Loss: 0.0022, L1 Loss: 2.1394 1/min\n",
      "VT_10P_32_emht2 Evaluation Results - MSE Loss: 0.0028, L1 Loss: 2.3824 1/min\n"
     ]
    }
   ],
   "source": [
    "# Load dataset\n",
    "dataset_dir = \"dataset/\"\n",
    "dataset_name = \"10P_32\"\n",
    "pkl_test = pickle.load(open(os.path.join(dataset_dir, f'{dataset_name}_test.pkl'), 'rb'))\n",
    "input_test, gt_test = pkl_test['input'], pkl_test['gt']\n",
    "\n",
    "num_channels = input_test.shape[1]\n",
    "num_freq_bins = input_test.shape[2]\n",
    "num_time_steps = input_test.shape[3]\n",
    "\n",
    "dataset_test = IMUSpectrogramDataset(input_test, gt_test)\n",
    "test_loader = DataLoader(dataset_test, batch_size=1, shuffle=True)\n",
    "\n",
    "MAE_32 = []\n",
    "\n",
    "# Load models\n",
    "# 2-D spectrogram\n",
    "device = torch.device(\"cuda\" if torch.cuda.is_available() else \"cpu\")\n",
    "models_name = ['MLP_10P_32', 'CNN_10P_32', 'VT_10P_32_emt2', 'VT_10P_32_emht2']\n",
    "models_name_show = [\"MLP\", \"CNN\", \"ViT_emt2\", \"ViT_emht2\"]\n",
    "\n",
    "models = [MLP_out1(num_freq_bins, num_time_steps, num_channels=num_channels),\n",
    "          CNN_out1_2(num_channels=num_channels),\n",
    "          VT.ViTRegression(in_channels=num_channels, patch_size=(3, 3), emb_dim=256, mlp_dim=512, device=device),\n",
    "          VT.ViTRegression(in_channels=num_channels, patch_size=(3, 3), emb_dim=256, mlp_dim=512, num_heads=8, device=device)]\n",
    "\n",
    "for i in range(len(models_name)):\n",
    "    models[i].load_state_dict(torch.load(f'./models/{str(models_name[i])}.pt'))\n",
    "    device = torch.device(\"cuda\" if torch.cuda.is_available() else \"cpu\")\n",
    "\n",
    "    # Evaluate model in whole testing set\n",
    "    mse, mae = evaluate_model(models[i], test_loader, model_name=models_name[i], device=device)\n",
    "    MAE_32.append(mae)"
   ]
  },
  {
   "cell_type": "markdown",
   "id": "88218b75",
   "metadata": {},
   "source": [
    "# Feature: Q omega omega_l2"
   ]
  },
  {
   "cell_type": "code",
   "execution_count": 10,
   "id": "031c82ea",
   "metadata": {},
   "outputs": [
    {
     "name": "stdout",
     "output_type": "stream",
     "text": [
      "MLP_10P_16 Evaluation Results - MSE Loss: 0.0036, L1 Loss: 2.6619 1/min\n",
      "CNN_10P_16 Evaluation Results - MSE Loss: 0.0033, L1 Loss: 2.6664 1/min\n",
      "VT_10P_16_emt2 Evaluation Results - MSE Loss: 0.0030, L1 Loss: 2.4266 1/min\n",
      "VT_10P_16_emht2 Evaluation Results - MSE Loss: 0.0025, L1 Loss: 2.3522 1/min\n"
     ]
    }
   ],
   "source": [
    "# Load dataset\n",
    "dataset_dir = \"dataset/\"\n",
    "dataset_name = \"10P_16\"\n",
    "pkl_test = pickle.load(open(os.path.join(dataset_dir, f'{dataset_name}_test.pkl'), 'rb'))\n",
    "input_test, gt_test = pkl_test['input'], pkl_test['gt']\n",
    "\n",
    "num_channels = input_test.shape[1]\n",
    "num_freq_bins = input_test.shape[2]\n",
    "num_time_steps = input_test.shape[3]\n",
    "\n",
    "dataset_test = IMUSpectrogramDataset(input_test, gt_test)\n",
    "test_loader = DataLoader(dataset_test, batch_size=1, shuffle=True)\n",
    "\n",
    "MAE_16 = []\n",
    "\n",
    "# Load models\n",
    "# 2-D spectrogram\n",
    "device = torch.device(\"cuda\" if torch.cuda.is_available() else \"cpu\")\n",
    "models_name = ['MLP_10P_16', 'CNN_10P_16', 'VT_10P_16_emt2', 'VT_10P_16_emht2']\n",
    "models_name_show = [\"MLP\", \"CNN\", \"ViT_emt2\", \"ViT_emht2\"]\n",
    "\n",
    "models = [MLP_out1(num_freq_bins, num_time_steps, num_channels=num_channels),\n",
    "          CNN_out1_2(num_channels=num_channels),\n",
    "          VT.ViTRegression(in_channels=num_channels, patch_size=(3, 3), emb_dim=256, mlp_dim=512, device=device),\n",
    "          VT.ViTRegression(in_channels=num_channels, patch_size=(3, 3), emb_dim=256, mlp_dim=512, num_heads=8, device=device)]\n",
    "\n",
    "for i in range(len(models_name)):\n",
    "    models[i].load_state_dict(torch.load(f'./models/{str(models_name[i])}.pt'))\n",
    "    device = torch.device(\"cuda\" if torch.cuda.is_available() else \"cpu\")\n",
    "\n",
    "    # Evaluate model in whole testing set\n",
    "    mse, mae = evaluate_model(models[i], test_loader, model_name=models_name[i], device=device)\n",
    "    MAE_16.append(mae)"
   ]
  },
  {
   "cell_type": "markdown",
   "id": "2bee32d4",
   "metadata": {},
   "source": [
    "# Feature: ANC"
   ]
  },
  {
   "cell_type": "code",
   "execution_count": 11,
   "id": "85327c97",
   "metadata": {},
   "outputs": [
    {
     "name": "stdout",
     "output_type": "stream",
     "text": [
      "MLP_10P_ANC Evaluation Results - MSE Loss: 0.0034, L1 Loss: 2.4902 1/min\n",
      "CNN_10P_ANC Evaluation Results - MSE Loss: 0.0035, L1 Loss: 2.7316 1/min\n",
      "VT_10P_ANC_emt2 Evaluation Results - MSE Loss: 0.0023, L1 Loss: 2.0783 1/min\n",
      "VT_10P_ANC_emht2 Evaluation Results - MSE Loss: 0.0028, L1 Loss: 2.4288 1/min\n"
     ]
    }
   ],
   "source": [
    "# Load dataset\n",
    "dataset_dir = \"dataset/\"\n",
    "dataset_name = \"10P_ANC\"\n",
    "pkl_test = pickle.load(open(os.path.join(dataset_dir, f'{dataset_name}_test.pkl'), 'rb'))\n",
    "input_test, gt_test = pkl_test['input'], pkl_test['gt']\n",
    "\n",
    "num_channels = input_test.shape[1]\n",
    "num_freq_bins = input_test.shape[2]\n",
    "num_time_steps = input_test.shape[3]\n",
    "\n",
    "dataset_test = IMUSpectrogramDataset(input_test, gt_test)\n",
    "test_loader = DataLoader(dataset_test, batch_size=1, shuffle=True)\n",
    "\n",
    "MAE_ANC = []\n",
    "\n",
    "# Load models\n",
    "# 2-D spectrogram\n",
    "device = torch.device(\"cuda\" if torch.cuda.is_available() else \"cpu\")\n",
    "models_name = ['MLP_10P_ANC', 'CNN_10P_ANC', 'VT_10P_ANC_emt2', 'VT_10P_ANC_emht2']\n",
    "models_name_show = [\"MLP\", \"CNN\", \"ViT_emt2\", \"ViT_emht2\"]\n",
    "\n",
    "models = [MLP_out1(num_freq_bins, num_time_steps, num_channels=num_channels),\n",
    "          CNN_out1_2(num_channels=num_channels),\n",
    "          VT.ViTRegression(in_channels=num_channels, patch_size=(3, 3), emb_dim=256, mlp_dim=512, device=device),\n",
    "          VT.ViTRegression(in_channels=num_channels, patch_size=(3, 3), emb_dim=256, mlp_dim=512, num_heads=8, device=device)]\n",
    "\n",
    "for i in range(len(models_name)):\n",
    "    models[i].load_state_dict(torch.load(f'./models/{str(models_name[i])}.pt'))\n",
    "    device = torch.device(\"cuda\" if torch.cuda.is_available() else \"cpu\")\n",
    "\n",
    "    # Evaluate model in whole testing set\n",
    "    mse, mae = evaluate_model(models[i], test_loader, model_name=models_name[i], device=device)\n",
    "    MAE_ANC.append(mae)"
   ]
  },
  {
   "cell_type": "markdown",
   "id": "18b9611b",
   "metadata": {},
   "source": [
    "# Feature: Q"
   ]
  },
  {
   "cell_type": "code",
   "execution_count": 12,
   "id": "99c5ba78",
   "metadata": {},
   "outputs": [
    {
     "name": "stdout",
     "output_type": "stream",
     "text": [
      "MLP_10P_Q Evaluation Results - MSE Loss: 0.0026, L1 Loss: 2.3358 1/min\n",
      "CNN_10P_Q Evaluation Results - MSE Loss: 0.0034, L1 Loss: 2.5884 1/min\n",
      "VT_10P_Q_emt2 Evaluation Results - MSE Loss: 0.0025, L1 Loss: 2.2716 1/min\n",
      "VT_10P_Q_emht2 Evaluation Results - MSE Loss: 0.0026, L1 Loss: 2.2801 1/min\n"
     ]
    }
   ],
   "source": [
    "# Load dataset\n",
    "dataset_dir = \"dataset/\"\n",
    "dataset_name = \"10P_Q\"\n",
    "pkl_test = pickle.load(open(os.path.join(dataset_dir, f'{dataset_name}_test.pkl'), 'rb'))\n",
    "input_test, gt_test = pkl_test['input'], pkl_test['gt']\n",
    "\n",
    "num_channels = input_test.shape[1]\n",
    "num_freq_bins = input_test.shape[2]\n",
    "num_time_steps = input_test.shape[3]\n",
    "\n",
    "dataset_test = IMUSpectrogramDataset(input_test, gt_test)\n",
    "test_loader = DataLoader(dataset_test, batch_size=1, shuffle=True)\n",
    "\n",
    "MAE_Q = []\n",
    "\n",
    "# Load models\n",
    "# 2-D spectrogram\n",
    "device = torch.device(\"cuda\" if torch.cuda.is_available() else \"cpu\")\n",
    "models_name = ['MLP_10P_Q', 'CNN_10P_Q', 'VT_10P_Q_emt2', 'VT_10P_Q_emht2']\n",
    "models_name_show = [\"MLP\", \"CNN\", \"ViT_emt2\", \"ViT_emht2\"]\n",
    "\n",
    "models = [MLP_out1(num_freq_bins, num_time_steps, num_channels=num_channels),\n",
    "          CNN_out1_2(num_channels=num_channels),\n",
    "          VT.ViTRegression(in_channels=num_channels, patch_size=(3, 3), emb_dim=256, mlp_dim=512, device=device),\n",
    "          VT.ViTRegression(in_channels=num_channels, patch_size=(3, 3), emb_dim=256, mlp_dim=512, num_heads=8, device=device)]\n",
    "\n",
    "for i in range(len(models_name)):\n",
    "    models[i].load_state_dict(torch.load(f'./models/{str(models_name[i])}.pt'))\n",
    "    device = torch.device(\"cuda\" if torch.cuda.is_available() else \"cpu\")\n",
    "\n",
    "    # Evaluate model in whole testing set\n",
    "    mse, mae = evaluate_model(models[i], test_loader, model_name=models_name[i], device=device)\n",
    "    MAE_Q.append(mae)"
   ]
  },
  {
   "cell_type": "markdown",
   "id": "55f152f8",
   "metadata": {},
   "source": [
    "# Visualize"
   ]
  },
  {
   "cell_type": "code",
   "execution_count": 13,
   "id": "493faf32",
   "metadata": {},
   "outputs": [
    {
     "data": {
      "image/png": "[encoded data removed]",
      "text/plain": [
       "<Figure size 1600x600 with 1 Axes>"
      ]
     },
     "metadata": {},
     "output_type": "display_data"
    }
   ],
   "source": [
    "def plot_mae_comparison(mae_ml, mae_paper):\n",
    "    model_names = mae_ml['model_name']\n",
    "    features = [key for key in mae_ml if key != 'model_name']\n",
    "    \n",
    "    num_models = len(model_names)\n",
    "    num_features = len(features)\n",
    "    \n",
    "    x_labels = features + list(mae_paper.keys())\n",
    "    x = np.arange(len(x_labels))\n",
    "    total_bar_width = 0.8\n",
    "    bar_width = total_bar_width / num_models\n",
    "\n",
    "    fig, ax = plt.subplots(figsize=(16, 6))\n",
    "\n",
    "    # Color\n",
    "    colors = [\"#418aff\", \"#ff6060\", \"#ffcd76\", \"#44ff70\"]  # MLP, CNN, ViT_emt2, ViT_emht2\n",
    "    paper_colors = [\"#a386ff\", \"#ff8fff\"]      # paper_4, paper_5\n",
    "\n",
    "    # Model result\n",
    "    for i, model in enumerate(model_names):\n",
    "        values = [mae_ml[feat][i] for feat in features]\n",
    "        bar_positions = x[:num_features] + i * bar_width - total_bar_width / 2 + bar_width / 2\n",
    "        bars = ax.bar(bar_positions, values, width=bar_width, color=colors[i], label=model)\n",
    "        for bar in bars:\n",
    "            height = bar.get_height()\n",
    "            ax.text(bar.get_x() + bar.get_width()/2, height + 0.05,\n",
    "                    f'{height:.4f}', ha='center', va='bottom', fontsize=9)\n",
    "\n",
    "    # Paper result\n",
    "    for i, (paper, value) in enumerate(mae_paper.items()):\n",
    "        pos = x[num_features + i]\n",
    "        bar = ax.bar(pos, value, width=bar_width * 1.5, color=paper_colors[i], label=paper)\n",
    "        ax.text(pos, value + 0.05, f'{value:.4f}', ha='center', va='bottom', fontsize=9)\n",
    "\n",
    "    ax.set_xticks(x)\n",
    "    ax.set_xticklabels(x_labels)\n",
    "    ax.set_xlabel(\"Features / Papers\")\n",
    "    ax.set_ylabel(\"MAE (1/min)\")\n",
    "    ax.set_title(\"L1 Loss (MAE) Comparison\")\n",
    "    ax.legend(title=\"Models / Papers\")\n",
    "    ax.grid(axis='y', linestyle='--', alpha=0.5)\n",
    "    plt.tight_layout()\n",
    "    plt.show()\n",
    "\n",
    "mae_ml = {\n",
    "    'model_name': [\"MLP\", \"CNN\", \"ViT_emt2\", \"ViT_emht2\"],\n",
    "    '32': MAE_32,\n",
    "    '16': MAE_16,\n",
    "    'ANC': MAE_ANC,\n",
    "    'Q': MAE_Q,\n",
    "}\n",
    "mae_paper = {\n",
    "    'paper_4': 4.4778,\n",
    "    'paper_5': 6.888\n",
    "}\n",
    "\n",
    "plot_mae_comparison(mae_ml, mae_paper)\n"
   ]
  }
 ],
 "metadata": {
  "kernelspec": {
   "display_name": "rr",
   "language": "python",
   "name": "python3"
  },
  "language_info": {
   "codemirror_mode": {
    "name": "ipython",
    "version": 3
   },
   "file_extension": ".py",
   "mimetype": "text/x-python",
   "name": "python",
   "nbconvert_exporter": "python",
   "pygments_lexer": "ipython3",
   "version": "3.9.21"
  }
 },
 "nbformat": 4,
 "nbformat_minor": 5
}
